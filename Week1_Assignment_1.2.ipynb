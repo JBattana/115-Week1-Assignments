{
  "nbformat": 4,
  "nbformat_minor": 0,
  "metadata": {
    "colab": {
      "provenance": [],
      "authorship_tag": "ABX9TyMfHWruIYhVlWp9mbOMb4b5",
      "include_colab_link": true
    },
    "kernelspec": {
      "name": "python3",
      "display_name": "Python 3"
    },
    "language_info": {
      "name": "python"
    }
  },
  "cells": [
    {
      "cell_type": "markdown",
      "metadata": {
        "id": "view-in-github",
        "colab_type": "text"
      },
      "source": [
        "<a href=\"https://colab.research.google.com/github/JBattana/115-Week1-Assignments/blob/main/Week1_Assignment_1.2.ipynb\" target=\"_parent\"><img src=\"https://colab.research.google.com/assets/colab-badge.svg\" alt=\"Open In Colab\"/></a>"
      ]
    },
    {
      "cell_type": "markdown",
      "source": [
        "Define a function named calculate_median that takes a list of numbers as input and returns the median of those numbers."
      ],
      "metadata": {
        "id": "IY9UAVMrFFMK"
      }
    },
    {
      "cell_type": "code",
      "source": [
        "#Your answers must go here"
      ],
      "metadata": {
        "id": "T8aVV1vxFJsX"
      },
      "execution_count": null,
      "outputs": []
    },
    {
      "cell_type": "markdown",
      "source": [
        "Read a text file named \"text.txt\" containing the following text. Count the occurrences of each word and store them in a dictionary.\n",
        "\n",
        "**Text:** apple banana apple orange mango mango grape grape peach pear peach pear kiwi kiwi pineapple pineapple strawberry strawberry blueberry blueberry watermelon watermelon lemon lemon lime\""
      ],
      "metadata": {
        "id": "nfCEGqBZFfIP"
      }
    },
    {
      "cell_type": "code",
      "source": [
        "#Your answers must go here"
      ],
      "metadata": {
        "id": "MvE0QgThFz77"
      },
      "execution_count": null,
      "outputs": []
    },
    {
      "cell_type": "markdown",
      "source": [
        "Create a .txt file and write some content into it. Read this content from '.txt' file and write it into another file named 'copy.txt' using a file method and a loop."
      ],
      "metadata": {
        "id": "dH4yhd-KFlbF"
      }
    },
    {
      "cell_type": "code",
      "source": [
        "#Your answers must go here"
      ],
      "metadata": {
        "id": "CtPv4V0hFzO3"
      },
      "execution_count": null,
      "outputs": []
    }
  ]
}