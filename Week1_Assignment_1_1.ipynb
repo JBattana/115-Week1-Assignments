{
  "nbformat": 4,
  "nbformat_minor": 0,
  "metadata": {
    "colab": {
      "provenance": []
    },
    "kernelspec": {
      "name": "python3",
      "display_name": "Python 3"
    },
    "language_info": {
      "name": "python"
    }
  },
  "cells": [
    {
      "cell_type": "markdown",
      "source": [
        "**Python Practice**"
      ],
      "metadata": {
        "id": "O2PrhW5BvC3E"
      }
    },
    {
      "cell_type": "markdown",
      "source": [
        "Create a string variable greeting containing \"Hello, \" and another variable name containing your name. Concatenate these variables to form a greeting message and print it"
      ],
      "metadata": {
        "id": "ujhMol3ubYaw"
      }
    },
    {
      "cell_type": "markdown",
      "source": [
        "Write a Python program which accepts a sequence of comma-separated numbers from the user and generates a list and a tuple with those numbers. Arrange them in ascending order"
      ],
      "metadata": {
        "id": "q6Q3a2icbfJb"
      }
    },
    {
      "cell_type": "markdown",
      "source": [
        "Define a variable num1 with a value of 5 and num2 with a value of \"10\". Perform the addition operation on num1 and num2, ensuring num2 is typecasted to an integer."
      ],
      "metadata": {
        "id": "WwAK0kgObf3i"
      }
    },
    {
      "cell_type": "markdown",
      "source": [
        "Write a Python program to display the first and last names from the given list of names: [\"Adam\",\"Alex\",\"Emmanuel\" ,\"Robert\", \"Finn\"]."
      ],
      "metadata": {
        "id": "tD9ZO5LqcPHJ"
      }
    },
    {
      "cell_type": "markdown",
      "source": [
        "Write a Python program to check if a letter is a vowel or consonant"
      ],
      "metadata": {
        "id": "Vjd6EpaUcoC0"
      }
    },
    {
      "cell_type": "markdown",
      "source": [
        "Write a Python program to solve (𝑥+𝑦)∗(𝑥+𝑦)."
      ],
      "metadata": {
        "id": "er3Sy7rDct0L"
      }
    },
    {
      "cell_type": "markdown",
      "source": [
        "Take a string as an input. Write a python program to create a new string using the first, middle, and last characters of the input string."
      ],
      "metadata": {
        "id": "VyB-z66Vcxjs"
      }
    },
    {
      "cell_type": "markdown",
      "source": [
        "Write a python program to take a string as an input and reverse it"
      ],
      "metadata": {
        "id": "4KoZnsVnc7K7"
      }
    },
    {
      "cell_type": "markdown",
      "source": [
        "Display the current date and time using a python code."
      ],
      "metadata": {
        "id": "lWZukF_qdZz5"
      }
    },
    {
      "cell_type": "markdown",
      "source": [
        "Swap the values of two variables without using a temporary variable."
      ],
      "metadata": {
        "id": "xJkZ_R62rtS4"
      }
    },
    {
      "cell_type": "markdown",
      "source": [
        "Write a python program to split a given string on a character (-,/,}) and display each substring."
      ],
      "metadata": {
        "id": "d6QWci5Srw_H"
      }
    },
    {
      "cell_type": "markdown",
      "source": [
        "Write a python program to print a substring of a string and find the middle position of the substring"
      ],
      "metadata": {
        "id": "MGrBVw8_sIt7"
      }
    },
    {
      "cell_type": "markdown",
      "source": [
        "**Collections**"
      ],
      "metadata": {
        "id": "x-5HZ4ghtHf-"
      }
    },
    {
      "cell_type": "markdown",
      "source": [
        "Take an input of numbers in a list and  write a create a new list containing only the even numbers from the original list."
      ],
      "metadata": {
        "id": "iGAnSQaMs-kU"
      }
    },
    {
      "cell_type": "markdown",
      "source": [
        "Take a list of strings (words) and create a new list containing the lengths of each word in the original list."
      ],
      "metadata": {
        "id": "2PHWbU8HtNO-"
      }
    },
    {
      "cell_type": "markdown",
      "source": [
        "Create a dictionary student_grades with keys as student names and values as their respective grades. Find and print the student with the highest grade."
      ],
      "metadata": {
        "id": "8gzK9MNStgx5"
      }
    },
    {
      "cell_type": "markdown",
      "source": [
        "Define two sets, set1 and set2, containing some common elements. Remove the elements from set1 that are also present in set2."
      ],
      "metadata": {
        "id": "E1B78qP8tupG"
      }
    },
    {
      "cell_type": "markdown",
      "source": [
        "Create a dictionary word_count to count the occurrences of each word in a given sentence. Print the top 3 most common words along with their counts."
      ],
      "metadata": {
        "id": "2qhPexHqt0fv"
      }
    },
    {
      "cell_type": "markdown",
      "source": [
        "Check if a given set set1 is a subset of another set set2. Print True if set1 is a subset of set2, otherwise print False."
      ],
      "metadata": {
        "id": "HvebC4AQt8dv"
      }
    },
    {
      "cell_type": "markdown",
      "source": [
        "Define a tuple dimensions representing the dimensions of a rectangle, with length and width. Calculate the perimeter of the rectangle using tuple unpacking"
      ],
      "metadata": {
        "id": "e3w5IV0WuFtk"
      }
    },
    {
      "cell_type": "markdown",
      "source": [
        "Define two tuples, tuple1 = (1, 2, 3) and tuple2 = (4, 5, 6). Concatenate these tuples and store the result in a new tuple."
      ],
      "metadata": {
        "id": "J4Vf8IxluIL0"
      }
    },
    {
      "cell_type": "markdown",
      "source": [
        "Create two dictionaries, dict1 = {'a': 1, 'b': 2} and dict2 = {'b': 3, 'c': 4}. Merge these dictionaries into a single dictionary, merged_dict, where the values of common keys are added together."
      ],
      "metadata": {
        "id": "K_oJVmreuT6O"
      }
    }
  ]
}